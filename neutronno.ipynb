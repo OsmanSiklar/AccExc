{
 "cells": [
  {
   "cell_type": "code",
   "execution_count": 2,
   "metadata": {},
   "outputs": [
    {
     "name": "stdout",
     "output_type": "stream",
     "text": [
      
     ]
    }
   ],
   "source": [
    "class Particle:\n",
    "    def __init__(self, Z, A):  #usage of init method with a function call\n",
    "        self.Z = Z  \n",
    "        self.A = A  \n",
    "\n",
    "    def neutronNumber(self):\n",
    "        N = self.A - self.Z\n",
    "        return N\n",
    "\n",
    "\n",
    "Zvalue = int(input(\"Enter the atomic number (Z) of the particle: \"))\n",
    "Avalue = int(input(\"Enter the mass number (A) of the particle: \"))\n",
    "\n",
    "particle = Particle(Z=Zvalue, A=Avalue)\n",
    "\n",
    "neutronCo = particle.neutronNumber()\n",
    "\n",
    "print(f\"The neutron number for the particle is: {neutronCo}\")\n",
    "\n"
   ]
  }
 ],
 "metadata": {
  "kernelspec": {
   "display_name": "base",
   "language": "python",
   "name": "python3"
  },
  "language_info": {
   "codemirror_mode": {
    "name": "ipython",
    "version": 3
   },
   "file_extension": ".py",
   "mimetype": "text/x-python",
   "name": "python",
   "nbconvert_exporter": "python",
   "pygments_lexer": "ipython3",
   "version": "3.7.4"
  }
 },
 "nbformat": 4,
 "nbformat_minor": 2
}
